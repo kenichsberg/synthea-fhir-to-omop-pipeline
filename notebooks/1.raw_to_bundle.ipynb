{
 "cells": [
  {
   "cell_type": "code",
   "execution_count": 0,
   "metadata": {
    "application/vnd.databricks.v1+cell": {
     "cellMetadata": {
      "byteLimit": 2048000,
      "rowLimit": 10000
     },
     "inputWidgets": {},
     "nuid": "e8e7ed27-3331-4512-aa95-9c32497df9f1",
     "showTitle": false,
     "tableResultSettingsMap": {},
     "title": ""
    }
   },
   "outputs": [
    {
     "output_type": "stream",
     "name": "stdout",
     "output_type": "stream",
     "text": [
      "+------------+-----------+--------------------+\n|resourceType|       type|               entry|\n+------------+-----------+--------------------+\n|      Bundle|transaction|[{\"fullUrl\":\"urn:...|\n|      Bundle|transaction|[{\"fullUrl\":\"urn:...|\n|      Bundle|transaction|[{\"fullUrl\":\"urn:...|\n|      Bundle|transaction|[{\"fullUrl\":\"urn:...|\n|      Bundle|transaction|[{\"fullUrl\":\"urn:...|\n|      Bundle|transaction|[{\"fullUrl\":\"urn:...|\n|      Bundle|transaction|[{\"fullUrl\":\"urn:...|\n|      Bundle|transaction|[{\"fullUrl\":\"urn:...|\n|      Bundle|transaction|[{\"fullUrl\":\"urn:...|\n|      Bundle|transaction|[{\"fullUrl\":\"urn:...|\n|      Bundle|transaction|[{\"fullUrl\":\"urn:...|\n|      Bundle|transaction|[{\"fullUrl\":\"urn:...|\n|      Bundle|transaction|[{\"fullUrl\":\"urn:...|\n|      Bundle|transaction|[{\"fullUrl\":\"urn:...|\n|      Bundle|transaction|[{\"fullUrl\":\"urn:...|\n|      Bundle|transaction|[{\"fullUrl\":\"urn:...|\n|      Bundle|transaction|[{\"fullUrl\":\"urn:...|\n|      Bundle|transaction|[{\"fullUrl\":\"urn:...|\n|      Bundle|transaction|[{\"fullUrl\":\"urn:...|\n|      Bundle|transaction|[{\"fullUrl\":\"urn:...|\n+------------+-----------+--------------------+\nonly showing top 20 rows\n"
     ]
    }
   ],
   "source": [
    "from pyspark.sql.types import *\n",
    "from pyspark.sql import functions as F\n",
    "from pyspark.sql import Row\n",
    "import json\n",
    "\n",
    "schema = StructType([\n",
    "    StructField(\"resourceType\", StringType(), False),\n",
    "    StructField(\"type\", StringType(), False),\n",
    "    StructField(\"entry\", ArrayType(StringType()), False)\n",
    "])\n",
    "\n",
    "df = spark.read.schema(schema).json(\"/Volumes/synthea/raw/fhir_bundle/*.json\")\n",
    "\n",
    "df.write.mode(\"append\").format(\"delta\").saveAsTable(\"synthea.raw.fhir_bundle\")\n",
    "\n",
    "df.show()"
   ]
  }
 ],
 "metadata": {
  "application/vnd.databricks.v1+notebook": {
   "computePreferences": null,
   "dashboards": [],
   "environmentMetadata": {
    "base_environment": "",
    "environment_version": "2"
   },
   "inputWidgetPreferences": null,
   "language": "python",
   "notebookMetadata": {
    "mostRecentlyExecutedCommandWithImplicitDF": {
     "commandId": 8605289441965928,
     "dataframes": [
      "_sqldf"
     ]
    },
    "pythonIndentUnit": 4
   },
   "notebookName": "1.raw_to_bundle",
   "widgets": {}
  },
  "language_info": {
   "name": "python"
  }
 },
 "nbformat": 4,
 "nbformat_minor": 0
}
