{
 "cells": [
  {
   "cell_type": "code",
   "execution_count": 0,
   "metadata": {
    "application/vnd.databricks.v1+cell": {
     "cellMetadata": {
      "byteLimit": 2048000,
      "rowLimit": 10000
     },
     "inputWidgets": {},
     "nuid": "36c45249-3a15-44d7-8bef-f26afc94937b",
     "showTitle": false,
     "tableResultSettingsMap": {},
     "title": ""
    }
   },
   "outputs": [],
   "source": [
    "cohort = spark.sql(\"\"\"\n",
    "WITH antibiotic_exposed AS (\n",
    "  SELECT d.person_id FROM drug_exposure d\n",
    "  JOIN person p ON d.person_id = p.person_id\n",
    "  WHERE d.drug_exposure_start_date < DATE_ADD(p.birth_datetime, 365)\n",
    "  GROUP BY d.person_id\n",
    "),\n",
    "\n",
    "obese_diagnosis AS (\n",
    "  SELECT c.person_id FROM condition_occurrence c\n",
    "  JOIN person p ON c.person_id = p.person_id\n",
    "  WHERE YEAR(c.condition_start_date) BETWEEN YEAR(p.birth_datetime) + 5 AND YEAR(p.birth_datetime) + 10\n",
    "  GROUP BY c.person_id\n",
    "),\n",
    "\n",
    "obese_bmi AS (\n",
    "  SELECT m.person_id FROM measurement m\n",
    "  JOIN person p ON m.person_id = p.person_id\n",
    "  WHERE m.measurement_concept_id = 3038553 AND m.value_as_number >= 30\n",
    "    AND YEAR(m.measurement_date) BETWEEN YEAR(p.birth_datetime) + 5 AND YEAR(p.birth_datetime) + 10\n",
    "  GROUP BY m.person_id\n",
    "),\n",
    "\n",
    "obesity_combined AS (\n",
    "  SELECT DISTINCT person_id FROM (\n",
    "    SELECT * FROM obese_diagnosis\n",
    "    UNION\n",
    "    SELECT * FROM obese_bmi\n",
    "  )\n",
    ")\n",
    "\n",
    "SELECT\n",
    "  p.person_id,\n",
    "  CASE WHEN a.person_id IS NOT NULL THEN 1 ELSE 0 END AS exposed,\n",
    "  CASE WHEN o.person_id IS NOT NULL THEN 1 ELSE 0 END AS obese\n",
    "FROM person p\n",
    "LEFT JOIN antibiotic_exposed a ON p.person_id = a.person_id\n",
    "LEFT JOIN obesity_combined o ON p.person_id = o.person_id\n",
    "\"\"\")\n",
    "\n",
    "cohort.write.mode(\"overwrite\").format(\"delta\").saveAsTable(\"cohort\")\n",
    "\n",
    "cohort.show()"
   ]
  },
  {
   "cell_type": "code",
   "execution_count": 0,
   "metadata": {
    "application/vnd.databricks.v1+cell": {
     "cellMetadata": {
      "byteLimit": 2048000,
      "rowLimit": 10000
     },
     "inputWidgets": {},
     "nuid": "61a4f175-6c04-4592-b9a0-fe8d395c8667",
     "showTitle": false,
     "tableResultSettingsMap": {},
     "title": ""
    }
   },
   "outputs": [],
   "source": [
    "from pyspark.sql.functions import col, count, sum\n",
    "\n",
    "cohort_agg = cohort.groupBy(\"exposed\").agg(\n",
    "    count(\"*\").alias(\"total\"),\n",
    "    sum(\"obese\").alias(\"obesity_cases\")\n",
    ").withColumn(\"rate\", (col(\"obesity_cases\") / col(\"total\") * 100).cast(\"double\"))\n",
    "\n",
    "cohort_agg.write.mode(\"overwrite\").format(\"delta\").saveAsTable(\"survey_result\")\n",
    "\n",
    "cohort_agg.show()"
   ]
  }
 ],
 "metadata": {
  "application/vnd.databricks.v1+notebook": {
   "computePreferences": null,
   "dashboards": [],
   "environmentMetadata": {
    "base_environment": "",
    "environment_version": "2"
   },
   "inputWidgetPreferences": null,
   "language": "python",
   "notebookMetadata": {
    "pythonIndentUnit": 4
   },
   "notebookName": "omop_to_result",
   "widgets": {}
  },
  "language_info": {
   "name": "python"
  }
 },
 "nbformat": 4,
 "nbformat_minor": 0
}
