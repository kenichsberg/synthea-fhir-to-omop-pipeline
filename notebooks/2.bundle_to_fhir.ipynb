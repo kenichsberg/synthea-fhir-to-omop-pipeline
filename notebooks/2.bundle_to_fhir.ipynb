{
 "cells": [
  {
   "cell_type": "code",
   "execution_count": 0,
   "metadata": {
    "application/vnd.databricks.v1+cell": {
     "cellMetadata": {
      "byteLimit": 2048000,
      "rowLimit": 10000
     },
     "inputWidgets": {},
     "nuid": "d69d469d-b890-4e22-bd5b-74e8b0df6b29",
     "showTitle": false,
     "tableResultSettingsMap": {},
     "title": ""
    }
   },
   "outputs": [
    {
     "output_type": "stream",
     "name": "stdout",
     "output_type": "stream",
     "text": [
      "+--------------------+--------------------+\n|        resourceType|            resource|\n+--------------------+--------------------+\n|             Patient|{\"resourceType\":\"...|\n|        Organization|{\"resourceType\":\"...|\n|        Practitioner|{\"resourceType\":\"...|\n|           Encounter|{\"resourceType\":\"...|\n|           Condition|{\"resourceType\":\"...|\n|   MedicationRequest|{\"resourceType\":\"...|\n|               Claim|{\"resourceType\":\"...|\n|               Claim|{\"resourceType\":\"...|\n|ExplanationOfBenefit|{\"resourceType\":\"...|\n|           Encounter|{\"resourceType\":\"...|\n|           Condition|{\"resourceType\":\"...|\n|   MedicationRequest|{\"resourceType\":\"...|\n|               Claim|{\"resourceType\":\"...|\n|   MedicationRequest|{\"resourceType\":\"...|\n|               Claim|{\"resourceType\":\"...|\n|               Claim|{\"resourceType\":\"...|\n|ExplanationOfBenefit|{\"resourceType\":\"...|\n|        Organization|{\"resourceType\":\"...|\n|        Practitioner|{\"resourceType\":\"...|\n|           Encounter|{\"resourceType\":\"...|\n+--------------------+--------------------+\nonly showing top 20 rows\n"
     ]
    }
   ],
   "source": [
    "from pyspark.sql.types import *\n",
    "from pyspark.sql import functions as F\n",
    "\n",
    "df_bundle = spark.read.format(\"delta\").table(\"synthea.raw.fhir_bundle\")\n",
    "\n",
    "entry_json_schema = StructType([StructField(\"resource\", StringType(), False)])\n",
    "resource_json_schema_common = StructType(\n",
    "    [StructField(\"resourceType\", StringType(), False)]\n",
    ")\n",
    "\n",
    "df_bundle_parsed = (\n",
    "    df_bundle.withColumn(\"entry_element\", F.explode(\"entry\"))\n",
    "    .withColumn(\n",
    "        \"entry_element_parsed\", F.from_json(F.col(\"entry_element\"), entry_json_schema)\n",
    "    )\n",
    "    .withColumn(\"resource\", F.col(\"entry_element_parsed.resource\"))\n",
    "    .withColumn(\n",
    "        \"resource_parsed\", F.from_json(F.col(\"resource\"), resource_json_schema_common)\n",
    "    )\n",
    "    .withColumn(\"resourceType\", F.col(\"resource_parsed.resourceType\"))\n",
    "    .drop(\"type\", \"entry\", \"entry_element\", \"entry_element_parsed\", \"resource_parsed\")\n",
    ")\n",
    "\n",
    "df_bundle_parsed.show()"
   ]
  },
  {
   "cell_type": "code",
   "execution_count": 0,
   "metadata": {
    "application/vnd.databricks.v1+cell": {
     "cellMetadata": {
      "byteLimit": 2048000,
      "rowLimit": 10000
     },
     "inputWidgets": {},
     "nuid": "77ed683b-80c4-468f-9b51-6f677d2f0d2b",
     "showTitle": false,
     "tableResultSettingsMap": {},
     "title": ""
    }
   },
   "outputs": [
    {
     "output_type": "stream",
     "name": "stdout",
     "output_type": "stream",
     "text": [
      "+--------------------+------+----------+\n|                  id|gender| birthDate|\n+--------------------+------+----------+\n|001bf5aa-89a9-4db...|  male|2013-01-25|\n|0076c218-1d8d-41a...|  male|2009-05-18|\n|00a2421c-80c4-444...|  male|2012-02-06|\n|00d4f791-d903-490...|female|2012-11-14|\n|00d6d2b3-ed74-446...|female|2011-08-14|\n|00ee5ffc-06ca-43f...|  male|2010-08-23|\n|00f84f11-7ddf-4ab...|  male|2010-07-23|\n|01c31137-599b-462...|  male|2012-06-08|\n|01d5cc50-3fc2-432...|female|2014-09-26|\n|02164be8-33fb-4fd...|female|2012-01-05|\n|02916a8b-caec-4d3...|  male|2011-11-22|\n|03ac1f8c-0f3d-438...|female|2015-12-20|\n|03b25307-b7d2-488...|  male|2011-02-07|\n|03bf37b6-bf38-427...|female|2010-07-25|\n|03c796d7-373d-47f...|  male|2014-02-16|\n|03cbebc3-0abb-492...|  male|2009-05-14|\n|0438df3d-d086-46e...|female|2011-02-11|\n|044d12e2-a9c9-497...|female|2009-10-26|\n|049c880d-2651-484...|  male|2014-04-22|\n|06405f78-8d04-443...|female|2013-01-03|\n+--------------------+------+----------+\nonly showing top 20 rows\n+--------------------+--------------------+--------------------+-----------------+---------------+--------------------+\n|                  id|                code|             subject|    valueQuantity|effectivePeriod|   effectiveDateTime|\n+--------------------+--------------------+--------------------+-----------------+---------------+--------------------+\n|8fbbd2c8-d3ab-47f...|{[{http://loinc.o...|{urn:uuid:001bf5a...|       {49.5, cm}|           NULL|2013-01-25T05:00:...|\n|71949666-8d96-4b5...|{[{http://loinc.o...|{urn:uuid:001bf5a...|   {3.0, {score}}|           NULL|2013-01-25T05:00:...|\n|096142c4-6028-476...|{[{http://loinc.o...|{urn:uuid:001bf5a...|        {4.2, kg}|           NULL|2013-01-25T05:00:...|\n|b67af1d5-42ca-4e6...|{[{http://loinc.o...|{urn:uuid:001bf5a...|      {95.295, %}|           NULL|2013-01-25T05:00:...|\n|3c5d18be-5c42-4db...|{[{http://loinc.o...|{urn:uuid:001bf5a...|      {33.08, cm}|           NULL|2013-01-25T05:00:...|\n|2adfdff3-3aea-4d6...|{[{http://loinc.o...|{urn:uuid:001bf5a...|             NULL|           NULL|2013-01-25T05:00:...|\n|34571231-f58d-4c6...|{[{http://loinc.o...|{urn:uuid:001bf5a...|     {93.0, /min}|           NULL|2013-01-25T05:00:...|\n|12517229-a272-415...|{[{http://loinc.o...|{urn:uuid:001bf5a...|     {13.0, /min}|           NULL|2013-01-25T05:00:...|\n|ea9149f7-c092-409...|{[{http://loinc.o...|{urn:uuid:001bf5a...|{9.7202, 10*3/uL}|           NULL|2013-01-25T05:00:...|\n|d98f066c-c9b5-4a8...|{[{http://loinc.o...|{urn:uuid:001bf5a...|{4.3028, 10*6/uL}|           NULL|2013-01-25T05:00:...|\n|a89c5652-f011-4e7...|{[{http://loinc.o...|{urn:uuid:001bf5a...|   {12.649, g/dL}|           NULL|2013-01-25T05:00:...|\n|a367596c-7f24-431...|{[{http://loinc.o...|{urn:uuid:001bf5a...|      {44.344, %}|           NULL|2013-01-25T05:00:...|\n|99a5b896-5cee-413...|{[{http://loinc.o...|{urn:uuid:001bf5a...|     {84.982, fL}|           NULL|2013-01-25T05:00:...|\n|f301f4cd-23e4-4f1...|{[{http://loinc.o...|{urn:uuid:001bf5a...|     {27.782, pg}|           NULL|2013-01-25T05:00:...|\n|a2f742b9-1487-443...|{[{http://loinc.o...|{urn:uuid:001bf5a...|   {34.103, g/dL}|           NULL|2013-01-25T05:00:...|\n|0cd237ce-8e8b-403...|{[{http://loinc.o...|{urn:uuid:001bf5a...|     {41.273, fL}|           NULL|2013-01-25T05:00:...|\n|c3d4d13f-8ee1-424...|{[{http://loinc.o...|{urn:uuid:001bf5a...|{225.66, 10*3/uL}|           NULL|2013-01-25T05:00:...|\n|47483bc9-0cad-415...|{[{http://loinc.o...|{urn:uuid:001bf5a...|     {305.65, fL}|           NULL|2013-01-25T05:00:...|\n|292e1d9e-d7fc-4fb...|{[{http://loinc.o...|{urn:uuid:001bf5a...|     {11.232, fL}|           NULL|2013-01-25T05:00:...|\n|d49916de-a7e0-4a6...|{[{http://loinc.o...|{urn:uuid:001bf5a...|             NULL|           NULL|2013-01-25T05:00:...|\n+--------------------+--------------------+--------------------+-----------------+---------------+--------------------+\nonly showing top 20 rows\n+--------------------+--------------------+-------------------------+--------------------+\n|                  id|             subject|medicationCodeableConcept|          authoredOn|\n+--------------------+--------------------+-------------------------+--------------------+\n|29e28c56-1d6b-4ac...|{urn:uuid:001bf5a...|     {[{http://www.nlm...|2016-02-09T05:00:...|\n|e340e799-5c12-465...|{urn:uuid:001bf5a...|     {[{http://www.nlm...|2016-02-09T05:00:...|\n|80792bbd-a70a-4f8...|{urn:uuid:0076c21...|     {[{http://www.nlm...|2013-02-26T05:00:...|\n|6dcc41e8-82fe-4bf...|{urn:uuid:0076c21...|     {[{http://www.nlm...|2011-10-05T06:00:...|\n|2ad1565b-cd60-445...|{urn:uuid:0076c21...|     {[{http://www.nlm...|2011-10-05T06:00:...|\n|be1e2798-cf97-423...|{urn:uuid:0076c21...|     {[{http://www.nlm...|2011-10-08T06:00:...|\n|4056539f-cae2-4aa...|{urn:uuid:0076c21...|     {[{http://www.nlm...|2014-08-10T06:00:...|\n|366f0728-b78d-46a...|{urn:uuid:00d4f79...|     {[{http://www.nlm...|2012-12-14T05:00:...|\n|07791d91-fb77-4a5...|{urn:uuid:00d4f79...|     {[{http://www.nlm...|2012-12-14T05:00:...|\n|6263f002-0d6f-46d...|{urn:uuid:00d4f79...|     {[{http://www.nlm...|2015-09-02T06:00:...|\n|8552d7a9-f2c8-429...|{urn:uuid:00ee5ff...|     {[{http://www.nlm...|2012-12-12T05:00:...|\n|7be5b009-fd5b-4c8...|{urn:uuid:00ee5ff...|     {[{http://www.nlm...|2013-07-08T06:00:...|\n|ad43c9ea-6efc-420...|{urn:uuid:00f84f1...|     {[{http://www.nlm...|2012-08-11T06:00:...|\n|98d04024-b46e-4b1...|{urn:uuid:00f84f1...|     {[{http://www.nlm...|2012-08-11T06:00:...|\n|18312e49-4727-4fa...|{urn:uuid:00f84f1...|     {[{http://www.nlm...|2014-07-10T06:00:...|\n|ba1ef34b-149d-48e...|{urn:uuid:00f84f1...|     {[{http://www.nlm...|2014-07-10T06:00:...|\n|136a56ac-7335-4fa...|{urn:uuid:00f84f1...|     {[{http://www.nlm...|2015-08-15T06:00:...|\n|b184c379-fe3f-45f...|{urn:uuid:00f84f1...|     {[{http://www.nlm...|2015-08-12T06:00:...|\n|e417fed0-053a-471...|{urn:uuid:00f84f1...|     {[{http://www.nlm...|2013-02-07T05:00:...|\n|52224faf-6e22-480...|{urn:uuid:01c3113...|     {[{http://www.nlm...|2012-12-17T05:00:...|\n+--------------------+--------------------+-------------------------+--------------------+\nonly showing top 20 rows\n+--------------------+--------------------+--------------------+\n|             subject|                code|       onsetDateTime|\n+--------------------+--------------------+--------------------+\n|{urn:uuid:001bf5a...|{[{http://snomed....|2016-02-09T05:00:...|\n|{urn:uuid:0076c21...|{[{http://snomed....|2013-02-26T05:00:...|\n|{urn:uuid:0076c21...|{[{http://snomed....|2018-10-28T06:00:...|\n|{urn:uuid:0076c21...|{[{http://snomed....|2009-09-17T06:00:...|\n|{urn:uuid:0076c21...|{[{http://snomed....|2011-10-05T06:00:...|\n|{urn:uuid:0076c21...|{[{http://snomed....|2011-10-08T06:00:...|\n|{urn:uuid:0076c21...|{[{http://snomed....|2014-08-10T06:00:...|\n|{urn:uuid:0076c21...|{[{http://snomed....|2016-10-15T06:00:...|\n|{urn:uuid:00d4f79...|{[{http://snomed....|2012-12-14T05:00:...|\n|{urn:uuid:00d4f79...|{[{http://snomed....|2014-01-11T05:00:...|\n|{urn:uuid:00d4f79...|{[{http://snomed....|2014-11-04T05:00:...|\n|{urn:uuid:00d4f79...|{[{http://snomed....|2015-02-09T05:00:...|\n|{urn:uuid:00d4f79...|{[{http://snomed....|2015-09-02T06:00:...|\n|{urn:uuid:00d6d2b...|{[{http://snomed....|2019-12-30T05:00:...|\n|{urn:uuid:00d6d2b...|{[{http://snomed....|2015-12-27T05:00:...|\n|{urn:uuid:00d6d2b...|{[{http://snomed....|2018-04-18T06:00:...|\n|{urn:uuid:00ee5ff...|{[{http://snomed....|2012-12-12T05:00:...|\n|{urn:uuid:00ee5ff...|{[{http://snomed....|2013-07-08T06:00:...|\n|{urn:uuid:00ee5ff...|{[{http://snomed....|2018-12-18T05:00:...|\n|{urn:uuid:00ee5ff...|{[{http://snomed....|2019-01-22T05:00:...|\n+--------------------+--------------------+--------------------+\nonly showing top 20 rows\n"
     ]
    }
   ],
   "source": [
    "fhir_patient_schema = StructType(\n",
    "    [\n",
    "        StructField(\"id\", StringType(), False),\n",
    "        StructField(\"gender\", StringType(), True),\n",
    "        StructField(\"birthDate\", StringType(), True),\n",
    "    ]\n",
    ")\n",
    "\n",
    "fhir_observation_schema = StructType(\n",
    "    [\n",
    "        StructField(\"id\", StringType(), False),\n",
    "        StructField(\n",
    "            \"code\",\n",
    "            StructType(\n",
    "                [\n",
    "                    StructField(\n",
    "                        \"coding\",\n",
    "                        ArrayType(\n",
    "                            StructType(\n",
    "                                [\n",
    "                                    StructField(\"system\", StringType(), False),\n",
    "                                    StructField(\"code\", StringType(), False),\n",
    "                                ]\n",
    "                            )\n",
    "                        ),\n",
    "                        True,\n",
    "                    )\n",
    "                ]\n",
    "            ),\n",
    "            True,\n",
    "        ),\n",
    "        StructField(\n",
    "            \"subject\", StructType([StructField(\"reference\", StringType(), False)]), True\n",
    "        ),\n",
    "        StructField(\n",
    "            \"valueQuantity\",\n",
    "            StructType(\n",
    "                [\n",
    "                    StructField(\"value\", FloatType(), True),\n",
    "                    StructField(\"unit\", StringType(), True),\n",
    "                ]\n",
    "            ),\n",
    "            True,\n",
    "        ),\n",
    "        StructField(\"effectivePeriod\", StringType(), True),\n",
    "        StructField(\"effectiveDateTime\", StringType(), True),\n",
    "    ]\n",
    ")\n",
    "\n",
    "fhir_medicationrequest_schema = StructType(\n",
    "    [\n",
    "        StructField(\"id\", StringType(), False),\n",
    "        StructField(\n",
    "            \"subject\", StructType([StructField(\"reference\", StringType(), False)]), True\n",
    "        ),\n",
    "        StructField(\n",
    "            \"medicationCodeableConcept\",\n",
    "            StructType(\n",
    "                [\n",
    "                    StructField(\n",
    "                        \"coding\",\n",
    "                        ArrayType(\n",
    "                            StructType(\n",
    "                                [\n",
    "                                    StructField(\"system\", StringType(), False),\n",
    "                                    StructField(\"code\", StringType(), False),\n",
    "                                ]\n",
    "                            )\n",
    "                        ),\n",
    "                        True,\n",
    "                    )\n",
    "                ]\n",
    "            ),\n",
    "            True,\n",
    "        ),\n",
    "        StructField(\"authoredOn\", StringType(), True),\n",
    "    ]\n",
    ")\n",
    "\n",
    "fhir_condition_schema = StructType(\n",
    "    [\n",
    "        StructField(\n",
    "            \"subject\", StructType([StructField(\"reference\", StringType(), False)]), True\n",
    "        ),\n",
    "        StructField(\n",
    "            \"code\",\n",
    "            StructType(\n",
    "                [\n",
    "                    StructField(\n",
    "                        \"coding\",\n",
    "                        ArrayType(\n",
    "                            StructType(\n",
    "                                [\n",
    "                                    StructField(\"system\", StringType(), False),\n",
    "                                    StructField(\"code\", StringType(), False),\n",
    "                                ]\n",
    "                            )\n",
    "                        ),\n",
    "                        True,\n",
    "                    )\n",
    "                ]\n",
    "            ),\n",
    "            True,\n",
    "        ),\n",
    "        StructField(\"onsetDateTime\", StringType(), True),\n",
    "    ]\n",
    ")\n",
    "\n",
    "fhir_resource_type_to_schema = {\n",
    "    \"Patient\": fhir_patient_schema,\n",
    "    \"Observation\": fhir_observation_schema,\n",
    "    \"MedicationRequest\": fhir_medicationrequest_schema,\n",
    "    \"Condition\": fhir_condition_schema,\n",
    "}\n",
    "\n",
    "fhir_resource_types = fhir_resource_type_to_schema.keys()\n",
    "\n",
    "\n",
    "for fhir_resource_type in fhir_resource_types:\n",
    "    # Filter rows for current table\n",
    "    df_bundle_filtered = df_bundle_parsed.filter(\n",
    "        F.col(\"resourceType\") == fhir_resource_type\n",
    "    )\n",
    "\n",
    "    # Parse the json dynamically selecting the schema\n",
    "    df_bundle_filtered = df_bundle_filtered.withColumn(\n",
    "        \"resource_parsed\",\n",
    "        F.from_json(\n",
    "            F.col(\"resource\"), fhir_resource_type_to_schema[fhir_resource_type]\n",
    "        ),\n",
    "    )\n",
    "    df_fhir_resource = df_bundle_filtered.select(\"resource_parsed.*\")\n",
    "\n",
    "    delta_table_name = f\"synthea.fhir.{fhir_resource_type.lower()}\"\n",
    "\n",
    "    df_fhir_resource.write.mode(\"append\").format(\"delta\").saveAsTable(delta_table_name)\n",
    "\n",
    "\n",
    "spark.read.format(\"delta\").table(\"synthea.fhir.patient\").show()\n",
    "spark.read.format(\"delta\").table(\"synthea.fhir.observation\").show()\n",
    "spark.read.format(\"delta\").table(\"synthea.fhir.medicationrequest\").show()\n",
    "spark.read.format(\"delta\").table(\"synthea.fhir.condition\").show()"
   ]
  }
 ],
 "metadata": {
  "application/vnd.databricks.v1+notebook": {
   "computePreferences": null,
   "dashboards": [],
   "environmentMetadata": {
    "base_environment": "",
    "environment_version": "2"
   },
   "inputWidgetPreferences": null,
   "language": "python",
   "notebookMetadata": {
    "mostRecentlyExecutedCommandWithImplicitDF": {
     "commandId": 8605289441965941,
     "dataframes": [
      "_sqldf"
     ]
    },
    "pythonIndentUnit": 4
   },
   "notebookName": "2.bundle_to_fhir",
   "widgets": {}
  },
  "language_info": {
   "name": "python"
  }
 },
 "nbformat": 4,
 "nbformat_minor": 0
}
