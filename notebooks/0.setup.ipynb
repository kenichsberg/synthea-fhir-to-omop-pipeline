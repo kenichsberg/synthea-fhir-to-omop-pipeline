{
 "cells": [
  {
   "cell_type": "code",
   "execution_count": 0,
   "metadata": {
    "application/vnd.databricks.v1+cell": {
     "cellMetadata": {
      "byteLimit": 2048000,
      "rowLimit": 10000
     },
     "inputWidgets": {},
     "nuid": "16675390-bbd8-4323-9bd9-51657d88b9d9",
     "showTitle": false,
     "tableResultSettingsMap": {},
     "title": ""
    }
   },
   "outputs": [],
   "source": [
    "CREATE CATALOG IF NOT EXISTS synthea;\n",
    "USE CATALOG synthea;\n",
    "\n",
    "CREATE SCHEMA IF NOT EXISTS raw;\n",
    "CREATE SCHEMA IF NOT EXISTS fhir;\n",
    "CREATE SCHEMA IF NOT EXISTS omop;\n",
    "CREATE SCHEMA IF NOT EXISTS analytics;"
   ]
  },
  {
   "cell_type": "code",
   "execution_count": 0,
   "metadata": {
    "application/vnd.databricks.v1+cell": {
     "cellMetadata": {
      "byteLimit": 2048000,
      "rowLimit": 10000
     },
     "inputWidgets": {},
     "nuid": "941e024f-610a-40db-8995-635ecafc6c8c",
     "showTitle": false,
     "tableResultSettingsMap": {},
     "title": ""
    }
   },
   "outputs": [],
   "source": [
    "--DROP TABLE IF EXISTS synthea.raw.fhir_bundle;\n",
    "--DROP TABLE IF EXISTS synthea.fhir.patient;\n",
    "--DROP TABLE IF EXISTS synthea.fhir.observation;\n",
    "--DROP TABLE IF EXISTS synthea.fhir.medicationrequest;\n",
    "--DROP TABLE IF EXISTS synthea.fhir.condition;\n",
    "--DROP TABLE IF EXISTS synthea.omop.condition_occurrence;\n",
    "--DROP TABLE IF EXISTS synthea.omop.drug_exposure;\n",
    "--DROP TABLE IF EXISTS synthea.omop.measurement;\n",
    "--DROP TABLE IF EXISTS synthea.omop.person;\n",
    "--DROP TABLE IF EXISTS synthea.analytics.cohort;\n",
    "--DROP TABLE IF EXISTS synthea.analytics.survey_result;\n"
   ]
  }
 ],
 "metadata": {
  "application/vnd.databricks.v1+notebook": {
   "computePreferences": null,
   "dashboards": [],
   "environmentMetadata": {
    "base_environment": "",
    "environment_version": "2"
   },
   "inputWidgetPreferences": null,
   "language": "sql",
   "notebookMetadata": {
    "mostRecentlyExecutedCommandWithImplicitDF": {
     "commandId": -1,
     "dataframes": [
      "_sqldf"
     ]
    },
    "pythonIndentUnit": 4
   },
   "notebookName": "0.setup",
   "widgets": {}
  },
  "language_info": {
   "name": "sql"
  }
 },
 "nbformat": 4,
 "nbformat_minor": 0
}
