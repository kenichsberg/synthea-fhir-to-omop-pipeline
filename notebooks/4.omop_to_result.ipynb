{
 "cells": [
  {
   "cell_type": "code",
   "execution_count": 0,
   "metadata": {
    "application/vnd.databricks.v1+cell": {
     "cellMetadata": {
      "byteLimit": 2048000,
      "rowLimit": 10000
     },
     "inputWidgets": {},
     "nuid": "36c45249-3a15-44d7-8bef-f26afc94937b",
     "showTitle": false,
     "tableResultSettingsMap": {},
     "title": ""
    }
   },
   "outputs": [
    {
     "output_type": "stream",
     "name": "stdout",
     "output_type": "stream",
     "text": [
      "+--------------------+-------+-----+\n|           person_id|exposed|obese|\n+--------------------+-------+-----+\n|001bf5aa-89a9-4db...|      0|    0|\n|0076c218-1d8d-41a...|      0|    0|\n|00a2421c-80c4-444...|      0|    0|\n|00d4f791-d903-490...|      0|    0|\n|00d6d2b3-ed74-446...|      0|    0|\n|00ee5ffc-06ca-43f...|      0|    0|\n|00f84f11-7ddf-4ab...|      0|    0|\n|01c31137-599b-462...|      0|    0|\n|01d5cc50-3fc2-432...|      0|    0|\n|02164be8-33fb-4fd...|      0|    0|\n|02916a8b-caec-4d3...|      0|    0|\n|03ac1f8c-0f3d-438...|      0|    0|\n|03b25307-b7d2-488...|      0|    0|\n|03bf37b6-bf38-427...|      0|    0|\n|03c796d7-373d-47f...|      0|    0|\n|03cbebc3-0abb-492...|      0|    0|\n|0438df3d-d086-46e...|      0|    0|\n|044d12e2-a9c9-497...|      0|    0|\n|049c880d-2651-484...|      0|    0|\n|06405f78-8d04-443...|      0|    0|\n+--------------------+-------+-----+\nonly showing top 20 rows\n"
     ]
    }
   ],
   "source": [
    "cohort = spark.sql(\"\"\"\n",
    "WITH antibiotic_exposed AS (\n",
    "  SELECT d.person_id FROM synthea.omop.drug_exposure d\n",
    "  JOIN synthea.omop.person p ON d.person_id = p.person_id\n",
    "  WHERE d.drug_exposure_start_date < DATE_ADD(p.birth_datetime, 365)\n",
    "  GROUP BY d.person_id\n",
    "),\n",
    "\n",
    "obese_diagnosis AS (\n",
    "  SELECT c.person_id FROM synthea.omop.condition_occurrence c\n",
    "  JOIN synthea.omop.person p ON c.person_id = p.person_id\n",
    "  WHERE YEAR(c.condition_start_date) BETWEEN YEAR(p.birth_datetime) + 5 AND YEAR(p.birth_datetime) + 10\n",
    "  GROUP BY c.person_id\n",
    "),\n",
    "\n",
    "obese_bmi AS (\n",
    "  SELECT m.person_id FROM synthea.omop.measurement m\n",
    "  JOIN synthea.omop.person p ON m.person_id = p.person_id\n",
    "  WHERE m.measurement_concept_id = 3038553 AND m.value_as_number >= 30\n",
    "    AND YEAR(m.measurement_date) BETWEEN YEAR(p.birth_datetime) + 5 AND YEAR(p.birth_datetime) + 10\n",
    "  GROUP BY m.person_id\n",
    "),\n",
    "\n",
    "obesity_combined AS (\n",
    "  SELECT DISTINCT person_id FROM (\n",
    "    SELECT * FROM obese_diagnosis\n",
    "    UNION\n",
    "    SELECT * FROM obese_bmi\n",
    "  )\n",
    ")\n",
    "\n",
    "SELECT\n",
    "  p.person_id,\n",
    "  CASE WHEN a.person_id IS NOT NULL THEN 1 ELSE 0 END AS exposed,\n",
    "  CASE WHEN o.person_id IS NOT NULL THEN 1 ELSE 0 END AS obese\n",
    "FROM synthea.omop.person p\n",
    "LEFT JOIN antibiotic_exposed a ON p.person_id = a.person_id\n",
    "LEFT JOIN obesity_combined o ON p.person_id = o.person_id\n",
    "\"\"\")\n",
    "\n",
    "cohort.write.mode(\"overwrite\").format(\"delta\").saveAsTable(\"synthea.analytics.cohort\")\n",
    "\n",
    "cohort.show()"
   ]
  },
  {
   "cell_type": "code",
   "execution_count": 0,
   "metadata": {
    "application/vnd.databricks.v1+cell": {
     "cellMetadata": {
      "byteLimit": 2048000,
      "rowLimit": 10000
     },
     "inputWidgets": {},
     "nuid": "61a4f175-6c04-4592-b9a0-fe8d395c8667",
     "showTitle": false,
     "tableResultSettingsMap": {},
     "title": ""
    }
   },
   "outputs": [
    {
     "output_type": "stream",
     "name": "stdout",
     "output_type": "stream",
     "text": [
      "+-------+-----+-------------+----+\n|exposed|total|obesity_cases|rate|\n+-------+-----+-------------+----+\n|      0|  471|            0| 0.0|\n+-------+-----+-------------+----+\n\n"
     ]
    }
   ],
   "source": [
    "from pyspark.sql.functions import col, count, sum\n",
    "\n",
    "cohort_agg = cohort.groupBy(\"exposed\").agg(\n",
    "    count(\"*\").alias(\"total\"),\n",
    "    sum(\"obese\").alias(\"obesity_cases\")\n",
    ").withColumn(\"rate\", (col(\"obesity_cases\") / col(\"total\") * 100).cast(\"double\"))\n",
    "\n",
    "cohort_agg.write.mode(\"overwrite\").format(\"delta\").saveAsTable(\"synthea.analytics.survey_result\")\n",
    "\n",
    "cohort_agg.show()"
   ]
  }
 ],
 "metadata": {
  "application/vnd.databricks.v1+notebook": {
   "computePreferences": null,
   "dashboards": [],
   "environmentMetadata": {
    "base_environment": "",
    "environment_version": "2"
   },
   "inputWidgetPreferences": null,
   "language": "python",
   "notebookMetadata": {
    "pythonIndentUnit": 4
   },
   "notebookName": "4.omop_to_result",
   "widgets": {}
  },
  "language_info": {
   "name": "python"
  }
 },
 "nbformat": 4,
 "nbformat_minor": 0
}
