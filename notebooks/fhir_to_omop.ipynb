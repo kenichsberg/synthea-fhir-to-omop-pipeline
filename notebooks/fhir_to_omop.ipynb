{
 "cells": [
  {
   "cell_type": "code",
   "execution_count": 0,
   "metadata": {
    "application/vnd.databricks.v1+cell": {
     "cellMetadata": {
      "byteLimit": 2048000,
      "rowLimit": 10000
     },
     "inputWidgets": {},
     "nuid": "94c0d3f5-619c-4e4c-af5a-7906fe106f94",
     "showTitle": false,
     "tableResultSettingsMap": {},
     "title": ""
    }
   },
   "outputs": [],
   "source": [
    "from pyspark.sql.functions import col, explode, to_date, lit\n",
    "from pyspark.sql import SparkSession\n",
    "\n",
    "spark = SparkSession.builder.getOrCreate()\n",
    "\n",
    "patient_df = spark.read.format(\"delta\").table(\"fhir_patient\")\n",
    "meds_df = spark.read.format(\"delta\").table(\"fhir_medicationrequest\")\n",
    "cond_df = spark.read.format(\"delta\").table(\"fhir_condition\")\n",
    "obs_df = spark.read.format(\"delta\").table(\"fhir_observation\")"
   ]
  },
  {
   "cell_type": "code",
   "execution_count": 0,
   "metadata": {
    "application/vnd.databricks.v1+cell": {
     "cellMetadata": {
      "byteLimit": 2048000,
      "rowLimit": 10000
     },
     "inputWidgets": {},
     "nuid": "83521c28-64f0-4e04-a6f6-a0d89bb9fb5b",
     "showTitle": false,
     "tableResultSettingsMap": {},
     "title": ""
    }
   },
   "outputs": [],
   "source": [
    "person = patient_df.select(\n",
    "    col(\"id\").alias(\"person_id\"),\n",
    "    to_date(\"birthDate\").alias(\"birth_datetime\"),\n",
    "    lit(0).alias(\"gender_concept_id\")  # Map FHIR `gender` to OMOP concept_id via lookup if available\n",
    ")\n",
    "\n",
    "person.write.mode(\"append\").format(\"delta\").saveAsTable(\"person\")"
   ]
  },
  {
   "cell_type": "code",
   "execution_count": 0,
   "metadata": {
    "application/vnd.databricks.v1+cell": {
     "cellMetadata": {
      "byteLimit": 2048000,
      "rowLimit": 10000
     },
     "inputWidgets": {},
     "nuid": "def7130a-9763-4cac-8347-5eb86d56f828",
     "showTitle": false,
     "tableResultSettingsMap": {},
     "title": ""
    }
   },
   "outputs": [],
   "source": [
    "# Filter to antibiotics using RxNorm codes\n",
    "abx_codes = [\"723\", \"5640\", \"197361\"]  # Amoxicillin, Penicillin, Azithromycin\n",
    "\n",
    "drug_exposure = meds_df \\\n",
    "    .filter(col(\"medicationCodeableConcept.coding\")[0].code.isin(abx_codes)) \\\n",
    "    .select(\n",
    "        col(\"subject.reference\").substr(9, 100).alias(\"person_id\"),  # \"Patient/123\" → \"123\"\n",
    "        to_date(\"authoredOn\").alias(\"drug_exposure_start_date\"),\n",
    "        col(\"medicationCodeableConcept.coding\")[0].code.alias(\"drug_concept_id\")\n",
    "    )\n",
    "    \n",
    "drug_exposure.write.mode(\"append\").format(\"delta\").saveAsTable(\"drug_exposure\")"
   ]
  },
  {
   "cell_type": "code",
   "execution_count": 0,
   "metadata": {
    "application/vnd.databricks.v1+cell": {
     "cellMetadata": {
      "byteLimit": 2048000,
      "rowLimit": 10000
     },
     "inputWidgets": {},
     "nuid": "aab4b865-8dce-4ba5-8c6c-2a783f7c57f5",
     "showTitle": false,
     "tableResultSettingsMap": {},
     "title": ""
    }
   },
   "outputs": [],
   "source": [
    "condition_occurrence = cond_df \\\n",
    "    .filter(col(\"code.coding\")[0].code == \"414916001\") \\\n",
    "    .select(\n",
    "        col(\"subject.reference\").substr(9, 100).alias(\"person_id\"),\n",
    "        to_date(\"onsetDateTime\").alias(\"condition_start_date\"),\n",
    "        lit(\"414916001\").alias(\"condition_concept_id\")\n",
    "    )\n",
    "condition_occurrence.write.mode(\"append\").format(\"delta\").saveAsTable(\"condition_occurrence\")"
   ]
  },
  {
   "cell_type": "code",
   "execution_count": 0,
   "metadata": {
    "application/vnd.databricks.v1+cell": {
     "cellMetadata": {
      "byteLimit": 2048000,
      "rowLimit": 10000
     },
     "inputWidgets": {},
     "nuid": "71a09117-4b05-46dd-a158-82d26eab358a",
     "showTitle": false,
     "tableResultSettingsMap": {},
     "title": ""
    }
   },
   "outputs": [],
   "source": [
    "measurement = obs_df \\\n",
    "    .filter(col(\"code.coding\")[0].code == \"39156-5\") \\\n",
    "    .select(\n",
    "        col(\"subject.reference\").substr(9, 100).alias(\"person_id\"),\n",
    "        to_date(\"effectiveDateTime\").alias(\"measurement_date\"),\n",
    "        col(\"valueQuantity.value\").alias(\"value_as_number\"),\n",
    "        lit(\"3038553\").alias(\"measurement_concept_id\")  # BMI\n",
    "    )\n",
    "measurement.write.mode(\"append\").format(\"delta\").saveAsTable(\"measurement\")"
   ]
  }
 ],
 "metadata": {
  "application/vnd.databricks.v1+notebook": {
   "computePreferences": null,
   "dashboards": [],
   "environmentMetadata": {
    "base_environment": "",
    "environment_version": "2"
   },
   "inputWidgetPreferences": null,
   "language": "python",
   "notebookMetadata": {
    "pythonIndentUnit": 4
   },
   "notebookName": "fhir_to_omop",
   "widgets": {}
  },
  "language_info": {
   "name": "python"
  }
 },
 "nbformat": 4,
 "nbformat_minor": 0
}
